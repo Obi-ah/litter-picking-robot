{
 "cells": [
  {
   "cell_type": "code",
   "execution_count": 1,
   "metadata": {},
   "outputs": [
    {
     "name": "stderr",
     "output_type": "stream",
     "text": [
      "/home/mscrobotics2324laptop5/.local/lib/python3.10/site-packages/matplotlib/projections/__init__.py:63: UserWarning: Unable to import Axes3D. This may be due to multiple versions of Matplotlib being installed (e.g. as a system package and as a pip package). As a result, the 3D projection is not available.\n",
      "  warnings.warn(\"Unable to import Axes3D. This may be due to multiple versions of \"\n"
     ]
    },
    {
     "data": {
      "text/plain": [
       "'/Users/obyah/Documents/Dissertation/Object_detection/dataset/config.yaml'"
      ]
     },
     "execution_count": 1,
     "metadata": {},
     "output_type": "execute_result"
    }
   ],
   "source": [
    "from ultralytics import YOLO\n",
    "'/Users/obyah/Documents/Dissertation/Object_detection/dataset/config.yaml'"
   ]
  },
  {
   "cell_type": "code",
   "execution_count": 2,
   "metadata": {},
   "outputs": [],
   "source": [
    "import cv2 as cv\n",
    "\n",
    "img = cv.imread('/home/mscrobotics2324laptop5/Course/Dissertation/Underwater Litter detector/Assets/DatasetGenerator/Dataset/sodacan/image_0000.png')\n",
    "\n"
   ]
  },
  {
   "cell_type": "code",
   "execution_count": 3,
   "metadata": {},
   "outputs": [],
   "source": [
    "model = YOLO('sodacanModel.pt')\n"
   ]
  },
  {
   "cell_type": "code",
   "execution_count": null,
   "metadata": {},
   "outputs": [],
   "source": [
    "model.train(data='/Users/obyah/Documents/Dissertation/Object_detection/dataset/config.yaml', epochs=150, imgsz=391)"
   ]
  },
  {
   "cell_type": "code",
   "execution_count": 4,
   "metadata": {},
   "outputs": [
    {
     "name": "stdout",
     "output_type": "stream",
     "text": [
      "\n",
      "image 1/1 /home/mscrobotics2324laptop5/Course/Dissertation/Underwater Litter detector/Assets/DatasetGenerator/Dataset/sodacan/image_0005.png: 416x416 1 sodacan, 377.6ms\n",
      "Speed: 8.0ms preprocess, 377.6ms inference, 17.8ms postprocess per image at shape (1, 3, 416, 416)\n",
      "Results saved to \u001b[1mruns/detect/predict4\u001b[0m\n",
      "[ultralytics.engine.results.Results object with attributes:\n",
      "\n",
      "boxes: ultralytics.engine.results.Boxes object\n",
      "keypoints: None\n",
      "masks: None\n",
      "names: {0: 'sodacan'}\n",
      "obb: None\n",
      "orig_img: array([[[54, 71, 74],\n",
      "        [55, 71, 75],\n",
      "        [55, 72, 75],\n",
      "        ...,\n",
      "        [53, 68, 70],\n",
      "        [50, 66, 68],\n",
      "        [50, 66, 68]],\n",
      "\n",
      "       [[54, 71, 75],\n",
      "        [54, 71, 75],\n",
      "        [55, 72, 75],\n",
      "        ...,\n",
      "        [52, 67, 70],\n",
      "        [50, 66, 68],\n",
      "        [50, 66, 68]],\n",
      "\n",
      "       [[54, 71, 74],\n",
      "        [54, 71, 74],\n",
      "        [54, 71, 75],\n",
      "        ...,\n",
      "        [50, 66, 68],\n",
      "        [51, 66, 68],\n",
      "        [52, 67, 69]],\n",
      "\n",
      "       ...,\n",
      "\n",
      "       [[41, 57, 59],\n",
      "        [40, 57, 59],\n",
      "        [39, 55, 57],\n",
      "        ...,\n",
      "        [39, 55, 57],\n",
      "        [39, 55, 57],\n",
      "        [39, 55, 57]],\n",
      "\n",
      "       [[41, 57, 59],\n",
      "        [40, 56, 58],\n",
      "        [39, 55, 57],\n",
      "        ...,\n",
      "        [39, 55, 57],\n",
      "        [39, 55, 57],\n",
      "        [39, 55, 57]],\n",
      "\n",
      "       [[39, 55, 56],\n",
      "        [39, 54, 55],\n",
      "        [39, 54, 55],\n",
      "        ...,\n",
      "        [40, 56, 57],\n",
      "        [40, 56, 57],\n",
      "        [40, 56, 57]]], dtype=uint8)\n",
      "orig_shape: (391, 391)\n",
      "path: '/home/mscrobotics2324laptop5/Course/Dissertation/Underwater Litter detector/Assets/DatasetGenerator/Dataset/sodacan/image_0005.png'\n",
      "probs: None\n",
      "save_dir: 'runs/detect/predict4'\n",
      "speed: {'preprocess': 7.98797607421875, 'inference': 377.61855125427246, 'postprocess': 17.825841903686523}]\n"
     ]
    }
   ],
   "source": [
    "output = model.predict('/home/mscrobotics2324laptop5/Course/Dissertation/Underwater Litter detector/Assets/DatasetGenerator/Dataset/sodacan/image_0005.png', conf = 0.4, save=True)\n",
    "print(output)"
   ]
  }
 ],
 "metadata": {
  "kernelspec": {
   "display_name": "my-venv",
   "language": "python",
   "name": "python3"
  },
  "language_info": {
   "codemirror_mode": {
    "name": "ipython",
    "version": 3
   },
   "file_extension": ".py",
   "mimetype": "text/x-python",
   "name": "python",
   "nbconvert_exporter": "python",
   "pygments_lexer": "ipython3",
   "version": "3.10.12"
  }
 },
 "nbformat": 4,
 "nbformat_minor": 2
}
